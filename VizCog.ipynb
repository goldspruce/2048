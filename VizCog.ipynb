{
  "nbformat": 4,
  "nbformat_minor": 0,
  "metadata": {
    "colab": {
      "provenance": [],
      "authorship_tag": "ABX9TyM13x59quSXYPYC1pL8IVCd",
      "include_colab_link": true
    },
    "kernelspec": {
      "name": "python3",
      "display_name": "Python 3"
    },
    "language_info": {
      "name": "python"
    }
  },
  "cells": [
    {
      "cell_type": "markdown",
      "metadata": {
        "id": "view-in-github",
        "colab_type": "text"
      },
      "source": [
        "<a href=\"https://colab.research.google.com/github/goldspruce/2048/blob/master/VizCog.ipynb\" target=\"_parent\"><img src=\"https://colab.research.google.com/assets/colab-badge.svg\" alt=\"Open In Colab\"/></a>"
      ]
    },
    {
      "cell_type": "code",
      "execution_count": null,
      "metadata": {
        "colab": {
          "base_uri": "https://localhost:8080/"
        },
        "id": "M0c1VezoMBy-",
        "outputId": "0b702dad-0d04-4bd8-cf92-34b71eef4fb8"
      },
      "outputs": [
        {
          "output_type": "stream",
          "name": "stdout",
          "text": [
            "[[ 1  0]\n",
            " [ 0 -1]]\n",
            "Apply filter:\n",
            "[[ 4  4 -2  4]\n",
            " [ 4  4 -4  4]\n",
            " [-6 -6 -6  4]\n",
            " [ 1  3  0  2]]\n"
          ]
        }
      ],
      "source": [
        "import numpy as np\n",
        "from scipy.signal import convolve2d\n",
        "\n",
        "def filter(input_matrix, filter_matrix):\n",
        "    \"\"\"\n",
        "    Apply filter to a visual field input matrix\n",
        "\n",
        "    \"\"\"\n",
        "    # 'valid' is no zero-padding\n",
        "    feature_map = convolve2d(input_matrix, filter_matrix, mode='valid')\n",
        "\n",
        "    return feature_map\n",
        "\n",
        "input_matrix = np.array([[1, 2, 3, 0, 3],\n",
        "                          [4, 5, 6, 1, 4],\n",
        "                          [7, 8, 9, 2, 5],\n",
        "                          [0, 1, 2, 3, 6],\n",
        "                          [0, 1, 4, 2, 5]\n",
        "                        ])\n",
        "\n",
        "filter_matrix = np.array([[1, 0],\n",
        "                           [0, -1]])\n",
        "\n",
        "result = filter(input_matrix, filter_matrix)\n",
        "print(filter_matrix)\n",
        "print(\"Apply filter:\")\n",
        "print(result)"
      ]
    },
    {
      "cell_type": "code",
      "source": [
        "def filtered(input_matrix, filter_matrix):\n",
        "\n",
        "    # validate input dimensions\n",
        "    input_rows, input_cols = input_matrix.shape\n",
        "    kernel_rows, kernel_cols = kernel.shape\n",
        "\n",
        "    if kernel_rows > input_rows or kernel_cols > input_cols:\n",
        "        raise ValueError(\"Kernel dimensions must be same or smaller than the input dimensions.\")\n",
        "\n",
        "    # output size\n",
        "    output_rows = input_rows - kernel_rows + 1\n",
        "    output_cols = input_cols - kernel_cols + 1\n",
        "    output = np.zeros((output_rows, output_cols))\n",
        "\n",
        "    for i in range(output_rows):\n",
        "        for j in range(output_cols):\n",
        "            # Extract the region of the input_matrix corresponding to the kernel\n",
        "            region = input_matrix[i:i + kernel_rows, j:j + kernel_cols]\n",
        "            # Compute the dot product between the kernel and the region\n",
        "            output[i, j] = np.sum(region * kernel)\n",
        "\n",
        "    return output\n",
        "\n",
        "def sliding_dot_product(input_matrix, kernel):\n",
        "\n",
        "    # validate input dimensions\n",
        "    input_rows, input_cols = input_matrix.shape\n",
        "    kernel_rows, kernel_cols = kernel.shape\n",
        "\n",
        "    if kernel_rows > input_rows or kernel_cols > input_cols:\n",
        "        raise ValueError(\"Kernel dimensions must be same or smaller than the input dimensions.\")\n",
        "\n",
        "    # output size\n",
        "    output_rows = input_rows - kernel_rows + 1\n",
        "    output_cols = input_cols - kernel_cols + 1\n",
        "    output = np.zeros((output_rows, output_cols))\n",
        "\n",
        "    for i in range(output_rows):\n",
        "        for j in range(output_cols):\n",
        "            # Extract the region of the input_matrix corresponding to the kernel\n",
        "            region = input_matrix[i:i + kernel_rows, j:j + kernel_cols]\n",
        "            # Compute the dot product between the kernel and the region\n",
        "            output[i, j] = np.sum(region * kernel)\n",
        "\n",
        "    return output\n",
        "\n",
        "input_matrix = np.array([[1, 2, 3, 0, 3],\n",
        "                          [4, 5, 6, 1, 4],\n",
        "                          [7, 8, 9, 2, 5],\n",
        "                          [0, 1, 2, 3, 6],\n",
        "                          [0, 1, 4, 2, 5]\n",
        "                        ])\n",
        "\n",
        "filter_matrix = np.array([[1, 1],\n",
        "                   [1, 1]])\n",
        "\n",
        "kernel = np.array([[-1, 0],\n",
        "                   [0, 1]])\n",
        "\n",
        "filtered = sliding_dot_product(input_matrix, filter_matrix)\n",
        "result = sliding_dot_product(input_matrix, kernel)\n",
        "print(\"Filtered before kernel:\")\n",
        "print(filtered)\n",
        "print(\"Filter plus kernel:\")\n",
        "print(result)"
      ],
      "metadata": {
        "colab": {
          "base_uri": "https://localhost:8080/"
        },
        "id": "h_jL_Pa6MEOz",
        "outputId": "ecd57ab2-5bfe-4d4f-f241-27558e0d3d1e"
      },
      "execution_count": null,
      "outputs": [
        {
          "output_type": "stream",
          "name": "stdout",
          "text": [
            "Filtered before kernel:\n",
            "[[12. 16. 10.  8.]\n",
            " [24. 28. 18. 12.]\n",
            " [16. 20. 16. 16.]\n",
            " [ 2.  8. 11. 16.]]\n",
            "Filter plus kernel:\n",
            "[[ 4.  4. -2.  4.]\n",
            " [ 4.  4. -4.  4.]\n",
            " [-6. -6. -6.  4.]\n",
            " [ 1.  3.  0.  2.]]\n"
          ]
        }
      ]
    }
  ]
}